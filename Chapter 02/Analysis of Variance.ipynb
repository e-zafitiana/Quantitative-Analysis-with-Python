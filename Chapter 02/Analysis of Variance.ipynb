{
 "cells": [
  {
   "cell_type": "markdown",
   "id": "f1cdd5a1",
   "metadata": {},
   "source": [
    "### **Analysis of Variance (ANOVA)**\n",
    "\n",
    "**Introduction to ANOVA (Analysis of Variance)**\n",
    "\n",
    "ANOVA (Analysis of Variance) was introduced by Ronald A. Fisher in 1920 to compare multiple population means.\n",
    "\n",
    "The basic principle is to compare the variance between groups and the variance within groups. By examining variability within and between groups, ANOVA allows us to determine whether observed differences between sample means are statistically significant.\n",
    "\n",
    "Key Concepts of ANOVA\n",
    "\n",
    "- **Variance**: A measure of the dispersion of data around the mean.\n",
    "- **Total Variance (TSV)**: Variance of all observations from the overall mean.\n",
    "- **Between-Group Variance (BV)**: Variance due to differences between group means.\n",
    "- **Within-Group Variance (TSV)**: Variance due to differences within each group."
   ]
  },
  {
   "cell_type": "markdown",
   "id": "f464ef58",
   "metadata": {},
   "source": [
    "**ANOVA Assumptions**\n",
    "\n",
    "1. **Independence of observations**: The samples must be independent of each other.\n",
    "2. **Normality**: The data for each group must follow a normal distribution.\n",
    "3. **Homogeneity of variances**: The variances of the groups must be similar.\n",
    "\n",
    "**Elements of ANOVA**\n",
    "\n",
    "**SSW (Within-Group Sum of Squares)**: Measures the variability of observations relative to their own group mean.\n",
    "\n",
    "**SSG (Between-Group Sum of Squares)**: Measures the variability of group means relative to the overall mean.\n",
    "\n",
    "**SST (Total Sum of Squares)**: Measures the total variability of the data, and is the sum of SSW and SSG:\n",
    "\n",
    "``SST = SSW + SSG``\n",
    "\n",
    "**Formule de la Statistique F**:\n",
    "\n",
    "``F = MSG/MSW = (SSG/(K - 1)) / (SSW/(n - K))``\n",
    "\n",
    "- K : Nombre de groupes.\n",
    "- n : Nombre total d’observations ou taille de l'échantillon\n",
    "\n",
    "Test Hypotheses:\n",
    "- Null Hypothesis (H0): The means of all groups are equal. (H0) : x1 = x2 = x3\n",
    "- Alternative Hypothesis (H1): At least one mean is different. (H1) : x1 <> x2 = x3"
   ]
  },
  {
   "cell_type": "markdown",
   "id": "a8f43cf3",
   "metadata": {},
   "source": [
    "**One-Way ANOVA with Python (Scipy, Statsmodels)**"
   ]
  },
  {
   "cell_type": "markdown",
   "id": "376bb2e6",
   "metadata": {},
   "source": [
    "Import Libraries"
   ]
  },
  {
   "cell_type": "code",
   "execution_count": 1,
   "id": "fe2e3a1a",
   "metadata": {},
   "outputs": [],
   "source": [
    "import numpy as np\n",
    "import matplotlib.pyplot as plt\n",
    "import pandas as pd\n",
    "import scipy.stats as stats\n",
    "import statsmodels.api as sm\n",
    "from statsmodels.formula.api import ols"
   ]
  },
  {
   "cell_type": "code",
   "execution_count": 2,
   "id": "2d5e3662",
   "metadata": {},
   "outputs": [],
   "source": [
    "# Set Data\n",
    "group_1 = [3, 2, 1]\n",
    "group_2 = [5, 3, 4]\n",
    "group_3 = [5, 6, 7]"
   ]
  },
  {
   "cell_type": "code",
   "execution_count": null,
   "id": "d1a251fc",
   "metadata": {},
   "outputs": [
    {
     "name": "stdout",
     "output_type": "stream",
     "text": [
      "Mean of group 1: 2.0\n",
      "Mean of group 2: 4.0\n",
      "Mean of group 3: 6.0\n",
      "Overall mean: 4.0\n"
     ]
    }
   ],
   "source": [
    "# Calculate the averages for each group\n",
    "# Calculate the overall average\n",
    "mean_1 = np.mean(group_1)\n",
    "mean_2 = np.mean(group_2)\n",
    "mean_3 = np.mean(group_3)\n",
    "overall_mean = np.mean(group_1 + group_2 + group_3)\n",
    "for i in range (1,4):\n",
    "    print(f\"Mean of group {i}: {eval('mean_' + str(i))}\")\n",
    "print(f\"overall mean: {overall_mean}\")"
   ]
  },
  {
   "cell_type": "code",
   "execution_count": null,
   "id": "0b0ec9aa",
   "metadata": {},
   "outputs": [
    {
     "name": "stdout",
     "output_type": "stream",
     "text": [
      "SSG : 24.0\n"
     ]
    }
   ],
   "source": [
    "# Sum of Squares Between Groups (SSG)\n",
    "SSG = len(group_1) * (mean_1 - overall_mean) ** 2 + \\\n",
    "      len(group_2) * (mean_2 - overall_mean) ** 2 + \\\n",
    "      len(group_3) * (mean_3 - overall_mean) ** 2\n",
    "print(f\"SSG: {SSG}\")"
   ]
  },
  {
   "cell_type": "code",
   "execution_count": 24,
   "id": "ad15bd6d",
   "metadata": {},
   "outputs": [
    {
     "name": "stdout",
     "output_type": "stream",
     "text": [
      "SSW: 6.0\n"
     ]
    }
   ],
   "source": [
    "# Intra-Group Sum of Squares (SSW)\n",
    "SSW = sum((x - mean_1) ** 2 for x in group_1) + \\\n",
    "      sum((x - mean_2) ** 2 for x in group_2) + \\\n",
    "      sum((x - mean_3) ** 2 for x in group_3)\n",
    "print(f\"SSW: {SSW}\")\n"
   ]
  },
  {
   "cell_type": "code",
   "execution_count": null,
   "id": "e045a8be",
   "metadata": {},
   "outputs": [
    {
     "name": "stdout",
     "output_type": "stream",
     "text": [
      "SST: 30.0\n"
     ]
    }
   ],
   "source": [
    "# Total Sum of Squares (TSS)\n",
    "SST = SSG + SSW\n",
    "print(f\"SST: {SST}\")"
   ]
  },
  {
   "cell_type": "code",
   "execution_count": 63,
   "id": "20ffb2c3",
   "metadata": {},
   "outputs": [
    {
     "name": "stdout",
     "output_type": "stream",
     "text": [
      "F-statistic: (2, 6)\n",
      "F-statistic: 12.0\n"
     ]
    }
   ],
   "source": [
    "# Mean Squares and the F-Statistic\n",
    "k = 3\n",
    "n = len(group_1) + len(group_2) + len(group_3)\n",
    "\n",
    "MSG = SSG / (k - 1)\n",
    "MSW = SSW / (n - k)\n",
    "F_stat = MSG / MSW\n",
    "print(f\"F-statistic: {(k-1, n-k)}\")\n",
    "print(f\"F-statistic: {F_stat}\")"
   ]
  },
  {
   "cell_type": "markdown",
   "id": "2ae15569",
   "metadata": {},
   "source": [
    "This means that the variance between groups is 12 times greater than the variance within groups."
   ]
  },
  {
   "cell_type": "code",
   "execution_count": 59,
   "id": "08c7844a",
   "metadata": {},
   "outputs": [
    {
     "name": "stdout",
     "output_type": "stream",
     "text": [
      "F-statistic (scipy): 12.0\n",
      "p-value (scipy): 0.008\n"
     ]
    }
   ],
   "source": [
    "from scipy import stats\n",
    "\n",
    "# Perform ANOVA with scipy\n",
    "F_scipy, p_value = stats.f_oneway(group_1, group_2, group_3)\n",
    "\n",
    "# Afficher les résultats\n",
    "print(f\"F-statistic (scipy): {F_scipy}\")\n",
    "print(f\"p-value (scipy): {p_value.round(4)}\")"
   ]
  },
  {
   "cell_type": "markdown",
   "id": "56632d6b",
   "metadata": {},
   "source": [
    "Such a low p-value means that the probability that the differences between groups are due to chance is practically zero. This is very strong evidence that the group means are significantly different."
   ]
  },
  {
   "cell_type": "code",
   "execution_count": 61,
   "id": "cfd8f9dc",
   "metadata": {},
   "outputs": [
    {
     "name": "stdout",
     "output_type": "stream",
     "text": [
      "We reject the null hypothesis Ho. The group means are significantly different.\n"
     ]
    }
   ],
   "source": [
    "# Interpret the Result\n",
    "alpha = 0.05\n",
    "if p_value < alpha:\n",
    "    print(\"We reject the null hypothesis Ho. The group means are significantly different.\")\n",
    "else:\n",
    "    print(\"We do not have enough evidence to reject the null hypothesis. The group means are similar.\")"
   ]
  },
  {
   "cell_type": "code",
   "execution_count": 62,
   "id": "0e2822f2",
   "metadata": {},
   "outputs": [
    {
     "name": "stdout",
     "output_type": "stream",
     "text": [
      "Valeur Critique F (F_critique) : 3.8625\n"
     ]
    }
   ],
   "source": [
    "from scipy.stats import f\n",
    "\n",
    "# Paramètres de l'ANOVA\n",
    "alpha = 0.05  \n",
    "df1 = 3       # Degrés de liberté entre les groupes\n",
    "df2 = 9      # Degrés de liberté au sein des groupes\n",
    "\n",
    "# Calcul de la Valeur Critique F\n",
    "F_critique = f.ppf(1 - alpha, df1, df2)\n",
    "print(f\"Valeur Critique F (F_critique) : {F_critique:.4f}\")"
   ]
  }
 ],
 "metadata": {
  "kernelspec": {
   "display_name": "Python 3",
   "language": "python",
   "name": "python3"
  },
  "language_info": {
   "codemirror_mode": {
    "name": "ipython",
    "version": 3
   },
   "file_extension": ".py",
   "mimetype": "text/x-python",
   "name": "python",
   "nbconvert_exporter": "python",
   "pygments_lexer": "ipython3",
   "version": "3.12.8"
  }
 },
 "nbformat": 4,
 "nbformat_minor": 5
}
